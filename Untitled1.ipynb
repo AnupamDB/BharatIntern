{
  "nbformat": 4,
  "nbformat_minor": 0,
  "metadata": {
    "colab": {
      "provenance": []
    },
    "kernelspec": {
      "name": "python3",
      "display_name": "Python 3"
    },
    "language_info": {
      "name": "python"
    }
  },
  "cells": [
    {
      "cell_type": "markdown",
      "source": [
        "### **Stock Price Prediction**"
      ],
      "metadata": {
        "id": "lFiN2jtbieEW"
      }
    },
    {
      "cell_type": "code",
      "execution_count": 59,
      "metadata": {
        "id": "s3cdJsG-u545"
      },
      "outputs": [],
      "source": [
        "import numpy as np\n",
        "import pandas as pd\n",
        "import matplotlib.pyplot as plt\n",
        "from sklearn.preprocessing import MinMaxScaler\n",
        "from tensorflow.keras.models import Sequential\n",
        "from tensorflow.keras.layers import Dense, LSTM, Dropout\n",
        "import tensorflow as tf"
      ]
    },
    {
      "cell_type": "code",
      "source": [
        "df=pd.read_csv(\"/content/NFLX.csv\")"
      ],
      "metadata": {
        "id": "i8VE0S8lwdz-"
      },
      "execution_count": 26,
      "outputs": []
    },
    {
      "cell_type": "code",
      "source": [
        "data=df['Close'].values.reshape(-1,1)"
      ],
      "metadata": {
        "id": "lpt9EmHXwnhd"
      },
      "execution_count": 27,
      "outputs": []
    },
    {
      "cell_type": "code",
      "source": [
        "sc=MinMaxScaler(feature_range=(0, 1))\n",
        "sc_data=sc.fit_transform(data)"
      ],
      "metadata": {
        "id": "WCqZvLbOxw2V"
      },
      "execution_count": 28,
      "outputs": []
    },
    {
      "cell_type": "code",
      "source": [
        "dataset_train=df.iloc[-1000:-100]\n",
        "dataset_test=df.iloc[-100:]\n",
        "print(dataset_train.columns.tolist())\n",
        "print(dataset_test.columns.tolist())"
      ],
      "metadata": {
        "colab": {
          "base_uri": "https://localhost:8080/"
        },
        "id": "thvbdDhdayba",
        "outputId": "8d394acc-5625-4a3b-a8be-98423614b700"
      },
      "execution_count": 80,
      "outputs": [
        {
          "output_type": "stream",
          "name": "stdout",
          "text": [
            "['Date', 'Open', 'High', 'Low', 'Close', 'Adj Close', 'Volume']\n",
            "['Date', 'Open', 'High', 'Low', 'Close', 'Adj Close', 'Volume']\n"
          ]
        }
      ]
    },
    {
      "cell_type": "code",
      "source": [
        "x_train = []\n",
        "y_train = []\n",
        "for i in range(60,len(sc_data)):\n",
        "    x_train.append(sc_data[i-60:i, 0])\n",
        "    y_train.append(sc_data[i,0])\n",
        "x_train,y_train = np.array(x_train),np.array(y_train)\n",
        "print(x_train.shape,y_train.shape)"
      ],
      "metadata": {
        "colab": {
          "base_uri": "https://localhost:8080/"
        },
        "id": "xvFAcfC4y4bB",
        "outputId": "e678f277-9a1b-4c89-b0b1-e218b41b848f"
      },
      "execution_count": 56,
      "outputs": [
        {
          "output_type": "stream",
          "name": "stdout",
          "text": [
            "(949, 60) (949,)\n"
          ]
        }
      ]
    },
    {
      "cell_type": "code",
      "source": [
        "x_train = np.reshape(x_train, (x_train.shape[0],x_train.shape[1],1))\n",
        "print('(samples, time steps, features) =',x_train.shape)"
      ],
      "metadata": {
        "colab": {
          "base_uri": "https://localhost:8080/"
        },
        "id": "zKONSmox9Dzk",
        "outputId": "8383a9e2-7dda-42fb-bf92-ed211505b10a"
      },
      "execution_count": 58,
      "outputs": [
        {
          "output_type": "stream",
          "name": "stdout",
          "text": [
            "(samples, time steps, features) = (949, 60, 1)\n"
          ]
        }
      ]
    },
    {
      "cell_type": "code",
      "source": [
        "model = Sequential()\n",
        "model.add(LSTM(units = 50,return_sequences = True,input_shape = (x_train.shape[1],1)))\n",
        "model.add(Dropout(0.2))\n",
        "model.add(LSTM(units = 50,return_sequences = True))\n",
        "model.add(Dropout(0.2))\n",
        "model.add(LSTM(units = 50,return_sequences = True))\n",
        "model.add(Dropout(0.2))\n",
        "model.add(LSTM(units = 50))\n",
        "model.add(Dropout(0.2))\n",
        "model.add(Dense(units = 1))"
      ],
      "metadata": {
        "id": "ydn-CfE39OyD"
      },
      "execution_count": 61,
      "outputs": []
    },
    {
      "cell_type": "code",
      "source": [
        "model.compile(optimizer = 'adam',loss = 'mean_squared_error')\n",
        "\n",
        "model.fit(x_train,y_train,epochs =100, batch_size = 32)"
      ],
      "metadata": {
        "colab": {
          "base_uri": "https://localhost:8080/"
        },
        "id": "4isQsHpr2EsN",
        "outputId": "de6636b3-2b2f-4815-d8a5-c5c68f91f37c"
      },
      "execution_count": 63,
      "outputs": [
        {
          "output_type": "stream",
          "name": "stdout",
          "text": [
            "Epoch 1/100\n",
            "30/30 [==============================] - 13s 148ms/step - loss: 0.0258\n",
            "Epoch 2/100\n",
            "30/30 [==============================] - 3s 109ms/step - loss: 0.0082\n",
            "Epoch 3/100\n",
            "30/30 [==============================] - 3s 108ms/step - loss: 0.0076\n",
            "Epoch 4/100\n",
            "30/30 [==============================] - 4s 128ms/step - loss: 0.0071\n",
            "Epoch 5/100\n",
            "30/30 [==============================] - 4s 124ms/step - loss: 0.0065\n",
            "Epoch 6/100\n",
            "30/30 [==============================] - 3s 108ms/step - loss: 0.0060\n",
            "Epoch 7/100\n",
            "30/30 [==============================] - 3s 108ms/step - loss: 0.0063\n",
            "Epoch 8/100\n",
            "30/30 [==============================] - 4s 147ms/step - loss: 0.0054\n",
            "Epoch 9/100\n",
            "30/30 [==============================] - 3s 109ms/step - loss: 0.0065\n",
            "Epoch 10/100\n",
            "30/30 [==============================] - 3s 109ms/step - loss: 0.0056\n",
            "Epoch 11/100\n",
            "30/30 [==============================] - 4s 119ms/step - loss: 0.0050\n",
            "Epoch 12/100\n",
            "30/30 [==============================] - 4s 135ms/step - loss: 0.0053\n",
            "Epoch 13/100\n",
            "30/30 [==============================] - 3s 109ms/step - loss: 0.0054\n",
            "Epoch 14/100\n",
            "30/30 [==============================] - 3s 108ms/step - loss: 0.0058\n",
            "Epoch 15/100\n",
            "30/30 [==============================] - 4s 148ms/step - loss: 0.0051\n",
            "Epoch 16/100\n",
            "30/30 [==============================] - 3s 109ms/step - loss: 0.0045\n",
            "Epoch 17/100\n",
            "30/30 [==============================] - 3s 109ms/step - loss: 0.0046\n",
            "Epoch 18/100\n",
            "30/30 [==============================] - 3s 111ms/step - loss: 0.0049\n",
            "Epoch 19/100\n",
            "30/30 [==============================] - 4s 141ms/step - loss: 0.0056\n",
            "Epoch 20/100\n",
            "30/30 [==============================] - 3s 109ms/step - loss: 0.0040\n",
            "Epoch 21/100\n",
            "30/30 [==============================] - 3s 111ms/step - loss: 0.0044\n",
            "Epoch 22/100\n",
            "30/30 [==============================] - 4s 147ms/step - loss: 0.0044\n",
            "Epoch 23/100\n",
            "30/30 [==============================] - 3s 110ms/step - loss: 0.0040\n",
            "Epoch 24/100\n",
            "30/30 [==============================] - 3s 109ms/step - loss: 0.0045\n",
            "Epoch 25/100\n",
            "30/30 [==============================] - 3s 108ms/step - loss: 0.0044\n",
            "Epoch 26/100\n",
            "30/30 [==============================] - 4s 147ms/step - loss: 0.0037\n",
            "Epoch 27/100\n",
            "30/30 [==============================] - 3s 109ms/step - loss: 0.0044\n",
            "Epoch 28/100\n",
            "30/30 [==============================] - 3s 109ms/step - loss: 0.0038\n",
            "Epoch 29/100\n",
            "30/30 [==============================] - 4s 146ms/step - loss: 0.0036\n",
            "Epoch 30/100\n",
            "30/30 [==============================] - 3s 110ms/step - loss: 0.0037\n",
            "Epoch 31/100\n",
            "30/30 [==============================] - 3s 109ms/step - loss: 0.0037\n",
            "Epoch 32/100\n",
            "30/30 [==============================] - 3s 110ms/step - loss: 0.0036\n",
            "Epoch 33/100\n",
            "30/30 [==============================] - 4s 148ms/step - loss: 0.0037\n",
            "Epoch 34/100\n",
            "30/30 [==============================] - 3s 109ms/step - loss: 0.0036\n",
            "Epoch 35/100\n",
            "30/30 [==============================] - 3s 109ms/step - loss: 0.0033\n",
            "Epoch 36/100\n",
            "30/30 [==============================] - 4s 139ms/step - loss: 0.0034\n",
            "Epoch 37/100\n",
            "30/30 [==============================] - 3s 114ms/step - loss: 0.0032\n",
            "Epoch 38/100\n",
            "30/30 [==============================] - 3s 111ms/step - loss: 0.0034\n",
            "Epoch 39/100\n",
            "30/30 [==============================] - 3s 110ms/step - loss: 0.0035\n",
            "Epoch 40/100\n",
            "30/30 [==============================] - 4s 147ms/step - loss: 0.0031\n",
            "Epoch 41/100\n",
            "30/30 [==============================] - 3s 109ms/step - loss: 0.0036\n",
            "Epoch 42/100\n",
            "30/30 [==============================] - 4s 119ms/step - loss: 0.0031\n",
            "Epoch 43/100\n",
            "30/30 [==============================] - 5s 173ms/step - loss: 0.0030\n",
            "Epoch 44/100\n",
            "30/30 [==============================] - 3s 109ms/step - loss: 0.0029\n",
            "Epoch 45/100\n",
            "30/30 [==============================] - 3s 110ms/step - loss: 0.0030\n",
            "Epoch 46/100\n",
            "30/30 [==============================] - 4s 119ms/step - loss: 0.0032\n",
            "Epoch 47/100\n",
            "30/30 [==============================] - 4s 135ms/step - loss: 0.0029\n",
            "Epoch 48/100\n",
            "30/30 [==============================] - 3s 110ms/step - loss: 0.0030\n",
            "Epoch 49/100\n",
            "30/30 [==============================] - 3s 109ms/step - loss: 0.0029\n",
            "Epoch 50/100\n",
            "30/30 [==============================] - 4s 147ms/step - loss: 0.0028\n",
            "Epoch 51/100\n",
            "30/30 [==============================] - 3s 110ms/step - loss: 0.0025\n",
            "Epoch 52/100\n",
            "30/30 [==============================] - 3s 109ms/step - loss: 0.0028\n",
            "Epoch 53/100\n",
            "30/30 [==============================] - 3s 113ms/step - loss: 0.0024\n",
            "Epoch 54/100\n",
            "30/30 [==============================] - 4s 142ms/step - loss: 0.0025\n",
            "Epoch 55/100\n",
            "30/30 [==============================] - 3s 108ms/step - loss: 0.0028\n",
            "Epoch 56/100\n",
            "30/30 [==============================] - 3s 110ms/step - loss: 0.0025\n",
            "Epoch 57/100\n",
            "30/30 [==============================] - 4s 147ms/step - loss: 0.0023\n",
            "Epoch 58/100\n",
            "30/30 [==============================] - 3s 109ms/step - loss: 0.0025\n",
            "Epoch 59/100\n",
            "30/30 [==============================] - 3s 109ms/step - loss: 0.0024\n",
            "Epoch 60/100\n",
            "30/30 [==============================] - 3s 110ms/step - loss: 0.0024\n",
            "Epoch 61/100\n",
            "30/30 [==============================] - 4s 143ms/step - loss: 0.0023\n",
            "Epoch 62/100\n",
            "30/30 [==============================] - 3s 110ms/step - loss: 0.0025\n",
            "Epoch 63/100\n",
            "30/30 [==============================] - 3s 110ms/step - loss: 0.0024\n",
            "Epoch 64/100\n",
            "30/30 [==============================] - 4s 147ms/step - loss: 0.0022\n",
            "Epoch 65/100\n",
            "30/30 [==============================] - 3s 110ms/step - loss: 0.0021\n",
            "Epoch 66/100\n",
            "30/30 [==============================] - 3s 110ms/step - loss: 0.0022\n",
            "Epoch 67/100\n",
            "30/30 [==============================] - 3s 109ms/step - loss: 0.0024\n",
            "Epoch 68/100\n",
            "30/30 [==============================] - 4s 147ms/step - loss: 0.0020\n",
            "Epoch 69/100\n",
            "30/30 [==============================] - 3s 109ms/step - loss: 0.0021\n",
            "Epoch 70/100\n",
            "30/30 [==============================] - 3s 109ms/step - loss: 0.0023\n",
            "Epoch 71/100\n",
            "30/30 [==============================] - 4s 141ms/step - loss: 0.0022\n",
            "Epoch 72/100\n",
            "30/30 [==============================] - 3s 113ms/step - loss: 0.0020\n",
            "Epoch 73/100\n",
            "30/30 [==============================] - 3s 110ms/step - loss: 0.0020\n",
            "Epoch 74/100\n",
            "30/30 [==============================] - 3s 109ms/step - loss: 0.0020\n",
            "Epoch 75/100\n",
            "30/30 [==============================] - 4s 147ms/step - loss: 0.0019\n",
            "Epoch 76/100\n",
            "30/30 [==============================] - 3s 110ms/step - loss: 0.0019\n",
            "Epoch 77/100\n",
            "30/30 [==============================] - 3s 110ms/step - loss: 0.0021\n",
            "Epoch 78/100\n",
            "30/30 [==============================] - 4s 138ms/step - loss: 0.0019\n",
            "Epoch 79/100\n",
            "30/30 [==============================] - 4s 116ms/step - loss: 0.0019\n",
            "Epoch 80/100\n",
            "30/30 [==============================] - 3s 110ms/step - loss: 0.0019\n",
            "Epoch 81/100\n",
            "30/30 [==============================] - 3s 110ms/step - loss: 0.0018\n",
            "Epoch 82/100\n",
            "30/30 [==============================] - 4s 149ms/step - loss: 0.0018\n",
            "Epoch 83/100\n",
            "30/30 [==============================] - 3s 109ms/step - loss: 0.0020\n",
            "Epoch 84/100\n",
            "30/30 [==============================] - 3s 110ms/step - loss: 0.0019\n",
            "Epoch 85/100\n",
            "30/30 [==============================] - 4s 136ms/step - loss: 0.0020\n",
            "Epoch 86/100\n",
            "30/30 [==============================] - 4s 119ms/step - loss: 0.0020\n",
            "Epoch 87/100\n",
            "30/30 [==============================] - 3s 109ms/step - loss: 0.0018\n",
            "Epoch 88/100\n",
            "30/30 [==============================] - 3s 110ms/step - loss: 0.0018\n",
            "Epoch 89/100\n",
            "30/30 [==============================] - 4s 148ms/step - loss: 0.0020\n",
            "Epoch 90/100\n",
            "30/30 [==============================] - 3s 109ms/step - loss: 0.0018\n",
            "Epoch 91/100\n",
            "30/30 [==============================] - 3s 110ms/step - loss: 0.0019\n",
            "Epoch 92/100\n",
            "30/30 [==============================] - 4s 133ms/step - loss: 0.0016\n",
            "Epoch 93/100\n",
            "30/30 [==============================] - 4s 122ms/step - loss: 0.0017\n",
            "Epoch 94/100\n",
            "30/30 [==============================] - 3s 109ms/step - loss: 0.0018\n",
            "Epoch 95/100\n",
            "30/30 [==============================] - 3s 111ms/step - loss: 0.0016\n",
            "Epoch 96/100\n",
            "30/30 [==============================] - 4s 150ms/step - loss: 0.0016\n",
            "Epoch 97/100\n",
            "30/30 [==============================] - 3s 110ms/step - loss: 0.0016\n",
            "Epoch 98/100\n",
            "30/30 [==============================] - 3s 110ms/step - loss: 0.0016\n",
            "Epoch 99/100\n",
            "30/30 [==============================] - 4s 133ms/step - loss: 0.0019\n",
            "Epoch 100/100\n",
            "30/30 [==============================] - 4s 122ms/step - loss: 0.0020\n"
          ]
        },
        {
          "output_type": "execute_result",
          "data": {
            "text/plain": [
              "<keras.src.callbacks.History at 0x7f6a2ad74fd0>"
            ]
          },
          "metadata": {},
          "execution_count": 63
        }
      ]
    },
    {
      "cell_type": "code",
      "source": [
        "time_step=60\n",
        "test_data=sc_data[-time_step:]\n",
        "test_data=test_data.reshape(-1,1)\n",
        "x_test=[]"
      ],
      "metadata": {
        "id": "IJazTdR62irz"
      },
      "execution_count": 64,
      "outputs": []
    },
    {
      "cell_type": "code",
      "source": [
        "for i in range(time_step, len(test_data[0])):\n",
        "    x_test.append(test_data[0, i - time_step:i, 0])\n",
        "\n",
        "x_test = np.array(x_test)\n",
        "x_test = np.reshape(x_test, (x_test.shape[0], time_step, 1))\n",
        "print(x_test.shape)"
      ],
      "metadata": {
        "colab": {
          "base_uri": "https://localhost:8080/"
        },
        "id": "_mWiBreCNxb6",
        "outputId": "2731c26e-cd33-490e-9ac5-90aa179cd037"
      },
      "execution_count": 70,
      "outputs": [
        {
          "output_type": "stream",
          "name": "stdout",
          "text": [
            "(0, 60, 1)\n"
          ]
        }
      ]
    },
    {
      "cell_type": "code",
      "source": [
        "model.compile(optimizer='adam', loss='mean_squared_error')"
      ],
      "metadata": {
        "id": "sxLv7V26Q6w6"
      },
      "execution_count": 72,
      "outputs": []
    },
    {
      "cell_type": "code",
      "source": [
        "real_stock_price = dataset_test.iloc[:,1:2].values\n",
        "dataset_total = pd.concat((dataset_train['Open'],dataset_test['Open']),axis = 0)\n",
        "print(len(dataset_total),len(dataset_test))\n",
        "inputs = dataset_total[len(dataset_total)-len(dataset_test)-60:].values\n",
        "print(inputs.shape)"
      ],
      "metadata": {
        "colab": {
          "base_uri": "https://localhost:8080/"
        },
        "id": "fKrSaNmoS_3t",
        "outputId": "eef612bd-f857-481c-ab5e-322c3fef5372"
      },
      "execution_count": 81,
      "outputs": [
        {
          "output_type": "stream",
          "name": "stdout",
          "text": [
            "1000 100\n",
            "(160,)\n"
          ]
        }
      ]
    },
    {
      "cell_type": "code",
      "source": [
        "inputs = inputs.reshape(-1,1)\n",
        "print(inputs.shape)\n",
        "\n",
        "#sc = MinMaxScaler(feature_range = (0,1))\n",
        "inputs = sc.transform(inputs)\n",
        "print(inputs.shape)"
      ],
      "metadata": {
        "colab": {
          "base_uri": "https://localhost:8080/"
        },
        "id": "2pcq6AZubJCX",
        "outputId": "a7e3117a-7355-4fea-856c-f361ec680266"
      },
      "execution_count": 82,
      "outputs": [
        {
          "output_type": "stream",
          "name": "stdout",
          "text": [
            "(160, 1)\n",
            "(160, 1)\n"
          ]
        }
      ]
    },
    {
      "cell_type": "code",
      "source": [
        "x_test = []\n",
        "for i in range(60,len(inputs)):\n",
        "    x_test.append(inputs[i-60:i,0])\n",
        "x_test = np.array(x_test)\n",
        "print(x_test.shape)\n",
        "\n",
        "x_test = np.reshape(x_test, (x_test.shape[0],x_test.shape[1],1))\n",
        "print(x_test.shape)"
      ],
      "metadata": {
        "colab": {
          "base_uri": "https://localhost:8080/"
        },
        "id": "yqARCOGkbf0b",
        "outputId": "24ae95e2-f64b-4702-b1ef-de9b90de1134"
      },
      "execution_count": 83,
      "outputs": [
        {
          "output_type": "stream",
          "name": "stdout",
          "text": [
            "(100, 60)\n",
            "(100, 60, 1)\n"
          ]
        }
      ]
    },
    {
      "cell_type": "code",
      "source": [
        "predicted_price = model.predict(x_test)\n",
        "predicted_price = sc.inverse_transform(predicted_price)\n",
        "print(predicted_price.shape)"
      ],
      "metadata": {
        "colab": {
          "base_uri": "https://localhost:8080/"
        },
        "id": "pYA42ZHJbjTe",
        "outputId": "7e3ad1aa-bc29-47bf-ac24-3a2fa31ffcf9"
      },
      "execution_count": 84,
      "outputs": [
        {
          "output_type": "stream",
          "name": "stdout",
          "text": [
            "4/4 [==============================] - 2s 42ms/step\n",
            "(100, 1)\n"
          ]
        }
      ]
    },
    {
      "cell_type": "code",
      "source": [
        "plt.plot(real_stock_price,color = 'red', label = 'Real Price')\n",
        "plt.plot(predicted_price, color = 'blue', label = 'Predicted Price')\n",
        "plt.title('Netflix Stock Price Prediction')\n",
        "plt.xlabel('Time')\n",
        "plt.ylabel('Netflix Stock Price')\n",
        "plt.xlim(0,100)\n",
        "plt.ylim(0,1200)\n",
        "plt.legend()\n",
        "plt.show()"
      ],
      "metadata": {
        "colab": {
          "base_uri": "https://localhost:8080/",
          "height": 472
        },
        "id": "TEN_hMFVbsTW",
        "outputId": "7f3318e8-4d5a-40e9-854c-becd5a647bce"
      },
      "execution_count": 86,
      "outputs": [
        {
          "output_type": "display_data",
          "data": {
            "text/plain": [
              "<Figure size 640x480 with 1 Axes>"
            ],
            "image/png": "[encoded data removed]"
          },
          "metadata": {}
        }
      ]
    }
  ]
}